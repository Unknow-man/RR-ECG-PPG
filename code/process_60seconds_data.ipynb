{
 "cells": [
  {
   "cell_type": "code",
   "execution_count": null,
   "metadata": {},
   "outputs": [],
   "source": [
    "import numpy as np\n",
    "import pandas as pd\n",
    "import pickle"
   ]
  },
  {
   "cell_type": "code",
   "execution_count": null,
   "metadata": {},
   "outputs": [],
   "source": [
    "data = pickle.load(open('../data/60_second_data.p','rb'))"
   ]
  },
  {
   "cell_type": "code",
   "execution_count": null,
   "metadata": {},
   "outputs": [],
   "source": [
    "from hrvanalysis import get_time_domain_features\n",
    "from joblib import Parallel,delayed\n",
    "data.shape"
   ]
  },
  {
   "cell_type": "code",
   "execution_count": null,
   "metadata": {},
   "outputs": [],
   "source": [
    "def get_data(a):\n",
    "    features = []\n",
    "    ecg_rr = a[:,-1]\n",
    "    ecg_rr = ecg_rr[~np.isnan(ecg_rr)]\n",
    "    if len(ecg_rr)<60:\n",
    "        return np.array(features).reshape(-1,35)\n",
    "    for i in [-2]:\n",
    "        ppg_rr = a[:,i]\n",
    "        ppg_qual = a[:,i-4]\n",
    "        index = ppg_rr>0\n",
    "        ppg_qual = ppg_qual[index]\n",
    "        ppg_rr = ppg_rr[index]\n",
    "        index = ~np.isnan(ppg_rr)\n",
    "        ppg_qual = ppg_qual[index]\n",
    "        ppg_rr = ppg_rr[index]\n",
    "        if len(ppg_rr)<3:\n",
    "            continue\n",
    "        for i in np.linspace(0,.9,9):\n",
    "            index = ppg_qual>i\n",
    "            ppg_qual = ppg_qual[index]\n",
    "            ppg_rr = ppg_rr[index]\n",
    "            if len(ppg_rr)<3:\n",
    "                continue\n",
    "            f = list(get_time_domain_features(ppg_rr).values())\n",
    "            f1 = list(get_time_domain_features(ecg_rr).values())\n",
    "            q = [np.percentile(ppg_qual,20),np.mean(ppg_qual),len(ppg_rr)/60]\n",
    "            features.append(np.array(f1+f+q))\n",
    "    return np.array(features).reshape(-1,35)\n",
    "\n",
    "df_col = Parallel(n_jobs=10,verbose=1)(delayed(get_data)(a) for a in data if len(a[~np.isnan(a[:,-1]),-1])>20)    "
   ]
  },
  {
   "cell_type": "code",
   "execution_count": null,
   "metadata": {},
   "outputs": [],
   "source": [
    "feature_col = ['mean_nni', 'sdnn', 'sdsd', 'nni_50', 'pnni_50', 'nni_20', 'pnni_20', 'rmssd',\n",
    " 'median_nni', 'range_nni', 'cvsd', 'cvnni', 'mean_hr', 'max_hr', 'min_hr', 'std_hr']\n",
    "quality_col = ['min','mean']\n",
    "X = np.concatenate(df_col,axis=0)\n",
    "X.shape"
   ]
  },
  {
   "cell_type": "code",
   "execution_count": null,
   "metadata": {},
   "outputs": [],
   "source": [
    "quality = X[:,-3:]\n",
    "features = X[:,16:-3]\n",
    "features_ecg = X[:,:16]"
   ]
  },
  {
   "cell_type": "code",
   "execution_count": null,
   "metadata": {},
   "outputs": [],
   "source": [
    "import matplotlib.pyplot as plt\n",
    "from scipy.stats import pearsonr\n",
    "from sklearn.metrics import mean_absolute_error,r2_score\n",
    "%matplotlib inline\n",
    "from statsmodels.regression.linear_model import OLS\n",
    "from statsmodels.tools import add_constant\n",
    "def aic(X,y):\n",
    "    regr = OLS(y, add_constant(X)).fit()\n",
    "    return regr.aic\n",
    "\n",
    "# from sklearn.utils import check_arrays\n",
    "def mean_absolute_percentage_error(y_true, y_pred): \n",
    "#     y_true, y_pred = check_arrays(y_true, y_pred)\n",
    "\n",
    "    ## Note: does not handle mix 1d representation\n",
    "    #if _is_1d(y_true): \n",
    "    #    y_true, y_pred = _check_1d_array(y_true, y_pred)\n",
    "\n",
    "    return np.mean(np.abs((y_true - y_pred) / (y_true+1))) * 100\n",
    "\n",
    "def output(quality,features_ecg,features1,j,q_name):\n",
    "    \n",
    "    for i,f_name in enumerate(feature_col):\n",
    "        features = features1[:,i]\n",
    "        ground_truth = features_ecg[:,i]\n",
    "        qual = quality[:,j]\n",
    "#         output(quals,input_ecg,input_ppg,f_name,q_name)\n",
    "    \n",
    "        l_range = np.arange(0,1,.1)\n",
    "        x = []\n",
    "        y = []\n",
    "        for l in l_range:\n",
    "            index = np.where((qual>=l)&(qual<l+.1))[0]\n",
    "            if len(index)<2:\n",
    "                continue\n",
    "            temp_input = features[index]\n",
    "            temp_output = ground_truth[index]\n",
    "            x.append(l)\n",
    "    #         y.append(aic(temp_input,temp_output))\n",
    "            y.append(mean_absolute_percentage_error(temp_output,temp_input))\n",
    "    #     plt.boxplot(y,showfliers=False)\n",
    "        plt.figure(figsize=(10,8))\n",
    "        plt.rcParams.update({'font.size':20})\n",
    "        plt.plot(x,y,label = str(f_name) )\n",
    "    #     plt.xticks(range(1,len(x)+1),x,rotation=60)\n",
    "        plt.ylabel('Percentage Error')\n",
    "        plt.xlabel('Range of Signal Quality-'+str(q_name))\n",
    "        plt.tight_layout()\n",
    "        plt.legend()\n",
    "        plt.show()\n",
    "\n"
   ]
  },
  {
   "cell_type": "code",
   "execution_count": null,
   "metadata": {
    "scrolled": false
   },
   "outputs": [],
   "source": [
    "for j,q_name in enumerate(quality_col):\n",
    "    output(quality,features_ecg,features,j,q_name)"
   ]
  },
  {
   "cell_type": "code",
   "execution_count": 1,
   "metadata": {},
   "outputs": [
    {
     "name": "stderr",
     "output_type": "stream",
     "text": [
      "Using TensorFlow backend.\n"
     ]
    }
   ],
   "source": []
  },
  {
   "cell_type": "code",
   "execution_count": null,
   "metadata": {},
   "outputs": [],
   "source": []
  }
 ],
 "metadata": {
  "kernelspec": {
   "display_name": "Python 3",
   "language": "python",
   "name": "python3"
  },
  "language_info": {
   "codemirror_mode": {
    "name": "ipython",
    "version": 3
   },
   "file_extension": ".py",
   "mimetype": "text/x-python",
   "name": "python",
   "nbconvert_exporter": "python",
   "pygments_lexer": "ipython3",
   "version": "3.7.6"
  }
 },
 "nbformat": 4,
 "nbformat_minor": 4
}
